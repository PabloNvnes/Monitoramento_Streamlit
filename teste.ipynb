{
 "cells": [
  {
   "cell_type": "code",
   "execution_count": 16,
   "metadata": {},
   "outputs": [
    {
     "name": "stderr",
     "output_type": "stream",
     "text": [
      "c:\\Users\\pablo\\AppData\\Local\\Programs\\Python\\Python313\\Lib\\site-packages\\pysolar\\numeric.py:62: UserWarning: no explicit representation of timezones available for np.datetime64\n",
      "  dd = numpy.array(d, dtype='datetime64[D]')\n",
      "c:\\Users\\pablo\\AppData\\Local\\Programs\\Python\\Python313\\Lib\\site-packages\\pysolar\\numeric.py:63: UserWarning: no explicit representation of timezones available for np.datetime64\n",
      "  dy = numpy.array(d, dtype='datetime64[Y]')\n",
      "2025-01-18 18:28:11.713 Thread 'MainThread': missing ScriptRunContext! This warning can be ignored when running in bare mode.\n",
      "2025-01-18 18:28:11.715 Thread 'MainThread': missing ScriptRunContext! This warning can be ignored when running in bare mode.\n",
      "2025-01-18 18:28:11.716 Thread 'MainThread': missing ScriptRunContext! This warning can be ignored when running in bare mode.\n",
      "2025-01-18 18:28:12.196 Thread 'MainThread': missing ScriptRunContext! This warning can be ignored when running in bare mode.\n",
      "2025-01-18 18:28:12.197 Thread 'MainThread': missing ScriptRunContext! This warning can be ignored when running in bare mode.\n"
     ]
    },
    {
     "data": {
      "text/plain": [
       "DeltaGenerator()"
      ]
     },
     "execution_count": 16,
     "metadata": {},
     "output_type": "execute_result"
    }
   ],
   "source": [
    "# Importações\n",
    "import streamlit as st\n",
    "from datetime import datetime, timedelta\n",
    "import pytz\n",
    "from pysolar.solar import get_altitude\n",
    "from pysolar.radiation import get_radiation_direct\n",
    "import matplotlib.pyplot as plt\n",
    "\n",
    "# Função para obter dados de irradiância solar\n",
    "def get_solar_irradiance(lat, lon, date_time):\n",
    "    altitude = get_altitude(lat, lon, date_time)\n",
    "    if altitude > 0:\n",
    "        irradiance = get_radiation_direct(date_time, altitude)\n",
    "    else:\n",
    "        irradiance = 0\n",
    "    return irradiance\n",
    "\n",
    "# Coordenadas da localização desejada\n",
    "lat, lon = -23.5505, -46.6333  # Coordenadas de São Paulo\n",
    "timezone = pytz.timezone('America/Sao_Paulo')\n",
    "\n",
    "# Obter dados de irradiância solar para as últimas 24 horas\n",
    "irradiance_data = []\n",
    "time_data = []\n",
    "current_time = datetime.now(timezone)\n",
    "for hour in range(24):\n",
    "    time_point = current_time - timedelta(hours=hour)\n",
    "    irradiance = get_solar_irradiance(lat, lon, time_point)\n",
    "    irradiance_data.append(irradiance)\n",
    "    time_data.append(time_point)\n",
    "\n",
    "# Inverter os dados para que o tempo esteja em ordem crescente\n",
    "irradiance_data.reverse()\n",
    "time_data.reverse()\n",
    "\n",
    "# Criar o gráfico\n",
    "plt.figure(figsize=(10, 5))\n",
    "plt.plot(time_data, irradiance_data, marker='o')\n",
    "plt.xlabel('Hora')\n",
    "plt.ylabel('Irradiância Solar (W/m²)')\n",
    "plt.title('Irradiância Solar nas Últimas 24 Horas em São Paulo')\n",
    "plt.xticks(rotation=45)\n",
    "plt.grid(True)\n",
    "plt.tight_layout()\n",
    "\n",
    "# Exibir o gráfico no Streamlit\n",
    "st.title('Gráfico de Irradiância Solar nas Últimas 24 Horas')\n",
    "st.pyplot(plt)"
   ]
  },
  {
   "cell_type": "code",
   "execution_count": null,
   "metadata": {},
   "outputs": [],
   "source": []
  }
 ],
 "metadata": {
  "kernelspec": {
   "display_name": "Python 3",
   "language": "python",
   "name": "python3"
  },
  "language_info": {
   "codemirror_mode": {
    "name": "ipython",
    "version": 3
   },
   "file_extension": ".py",
   "mimetype": "text/x-python",
   "name": "python",
   "nbconvert_exporter": "python",
   "pygments_lexer": "ipython3",
   "version": "3.13.0"
  }
 },
 "nbformat": 4,
 "nbformat_minor": 2
}
