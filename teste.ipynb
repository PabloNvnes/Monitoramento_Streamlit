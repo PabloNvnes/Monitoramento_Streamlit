{
 "cells": [
  {
   "cell_type": "code",
   "execution_count": 15,
   "metadata": {},
   "outputs": [
    {
     "name": "stderr",
     "output_type": "stream",
     "text": [
      "c:\\Users\\pablo\\AppData\\Local\\Programs\\Python\\Python313\\Lib\\site-packages\\pysolar\\numeric.py:62: UserWarning: no explicit representation of timezones available for np.datetime64\n",
      "  dd = numpy.array(d, dtype='datetime64[D]')\n",
      "c:\\Users\\pablo\\AppData\\Local\\Programs\\Python\\Python313\\Lib\\site-packages\\pysolar\\numeric.py:63: UserWarning: no explicit representation of timezones available for np.datetime64\n",
      "  dy = numpy.array(d, dtype='datetime64[Y]')\n",
      "2025-01-18 18:17:09.522 WARNING streamlit.runtime.scriptrunner_utils.script_run_context: Thread 'MainThread': missing ScriptRunContext! This warning can be ignored when running in bare mode.\n",
      "2025-01-18 18:17:09.771 \n",
      "  \u001b[33m\u001b[1mWarning:\u001b[0m to view this Streamlit app on a browser, run it with the following\n",
      "  command:\n",
      "\n",
      "    streamlit run C:\\Users\\pablo\\AppData\\Roaming\\Python\\Python313\\site-packages\\ipykernel_launcher.py [ARGUMENTS]\n",
      "2025-01-18 18:17:09.772 Thread 'MainThread': missing ScriptRunContext! This warning can be ignored when running in bare mode.\n",
      "2025-01-18 18:17:09.773 Thread 'MainThread': missing ScriptRunContext! This warning can be ignored when running in bare mode.\n",
      "2025-01-18 18:17:09.775 Thread 'MainThread': missing ScriptRunContext! This warning can be ignored when running in bare mode.\n",
      "2025-01-18 18:17:09.776 Thread 'MainThread': missing ScriptRunContext! This warning can be ignored when running in bare mode.\n",
      "2025-01-18 18:17:09.776 Thread 'MainThread': missing ScriptRunContext! This warning can be ignored when running in bare mode.\n"
     ]
    }
   ],
   "source": [
    "# Importações\n",
    "import streamlit as st\n",
    "from datetime import datetime\n",
    "import pytz\n",
    "from pysolar.solar import get_altitude\n",
    "from pysolar.radiation import get_radiation_direct\n",
    "\n",
    "# Função para obter dados de irradiância solar\n",
    "def get_solar_irradiance(lat, lon, date_time):\n",
    "    altitude = get_altitude(lat, lon, date_time)\n",
    "    if altitude > 0:\n",
    "        irradiance = get_radiation_direct(date_time, altitude)\n",
    "    else:\n",
    "        irradiance = 0\n",
    "    return irradiance\n",
    "\n",
    "# Coordenadas da localização desejada\n",
    "lat, lon = -23.5505, -46.6333  # Coordenadas de São Paulo\n",
    "timezone = pytz.timezone('America/Sao_Paulo')\n",
    "date_time = datetime.now(timezone)\n",
    "\n",
    "# Obter dados de irradiância solar\n",
    "irradiance = get_solar_irradiance(lat, lon, date_time)\n",
    "\n",
    "# Exibir dados no Streamlit\n",
    "st.title('Dados de Irradiância Solar em Tempo Real')\n",
    "st.write(f\"Irradiância solar atual em São Paulo: {irradiance} W/m²\")"
   ]
  },
  {
   "cell_type": "code",
   "execution_count": null,
   "metadata": {},
   "outputs": [],
   "source": []
  }
 ],
 "metadata": {
  "kernelspec": {
   "display_name": "Python 3",
   "language": "python",
   "name": "python3"
  },
  "language_info": {
   "codemirror_mode": {
    "name": "ipython",
    "version": 3
   },
   "file_extension": ".py",
   "mimetype": "text/x-python",
   "name": "python",
   "nbconvert_exporter": "python",
   "pygments_lexer": "ipython3",
   "version": "3.13.0"
  }
 },
 "nbformat": 4,
 "nbformat_minor": 2
}
